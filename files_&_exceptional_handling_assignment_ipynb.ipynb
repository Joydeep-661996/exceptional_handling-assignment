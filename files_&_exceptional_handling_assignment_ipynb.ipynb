{
  "nbformat": 4,
  "nbformat_minor": 0,
  "metadata": {
    "colab": {
      "provenance": []
    },
    "kernelspec": {
      "name": "python3",
      "display_name": "Python 3"
    },
    "language_info": {
      "name": "python"
    }
  },
  "cells": [
    {
      "cell_type": "markdown",
      "source": [
        "Q1. What is the difference between interpreted and compiled languages?\n",
        "\n",
        "ANS:  ***Interpreted Languages***\n",
        "1. The code is executed line by line by an interpreter.\n",
        "2. No separate compilation step is needed before execution.\n",
        "3. Slower compared to compiled languages because translation happens at runtime.\n",
        "    Examples: Python, JavaScript, Ruby\n",
        "\n",
        "     ***Compiled Languages***\n",
        "1. The code is first translated into machine code by a compiler before execution.\n",
        "2. After compilation, the machine code runs directly on the hardware, making it faster.\n",
        "    Examples: C, C++, Rust"
      ],
      "metadata": {
        "id": "bYEYtGUIkz6v"
      }
    },
    {
      "cell_type": "markdown",
      "source": [
        "Q2.What is exception handling in Python?\n",
        "\n",
        "ANS:  Exception handling in Python is a mechanism to handle runtime errors and prevent programs from crashing. It allows you to detect, handle, and recover from exceptions (unexpected events like division by zero, file not found, etc.).\n",
        "\n"
      ],
      "metadata": {
        "id": "nLwQF7skkz9l"
      }
    },
    {
      "cell_type": "markdown",
      "source": [
        "Q3. What is the purpose of the finally block in exception handling?\n",
        "\n",
        "ANS:The finally block is used in Python to execute a set of statements no matter what happens—whether an exception occurs or not. It is commonly used for clean-up operations, such as closing files, releasing resources, or disconnecting from a database."
      ],
      "metadata": {
        "id": "5HWtUY-Sm4sX"
      }
    },
    {
      "cell_type": "markdown",
      "source": [
        "Q4.What is logging in Python?\n",
        "\n",
        "ANS:  Logging in Python is a way to track events that happen when a program runs. Instead of using print() statements for debugging, the logging module provides a flexible way to record messages with different levels of severity.\n",
        "\n"
      ],
      "metadata": {
        "id": "76xZFUFznysB"
      }
    },
    {
      "cell_type": "markdown",
      "source": [
        "Q5.What is the significance of the __del__ method in Python?\n",
        "\n",
        "ANS:  The __del__ method in Python is a destructor, called when an object is about to be destroyed (garbage collected). It allows you to define cleanup actions before the object is removed from memory.\n",
        "\n"
      ],
      "metadata": {
        "id": "pLf4MtL1odKR"
      }
    },
    {
      "cell_type": "markdown",
      "source": [
        "Q6.What is the difference between import and from ... import in Python?\n",
        "\n",
        "ANS:Both import and from ... import are used to bring external modules or specific components of a module into a Python program. However, they have key differences in how they work.\n",
        "\n",
        "1. Using import\n",
        "This method imports the entire module, requiring you to use the module name as a prefix when accessing functions or variables.\n",
        "\n",
        "2. Using from ... import-\n",
        "This method imports specific functions, classes, or variables from a module, allowing you to use them directly without a prefix."
      ],
      "metadata": {
        "id": "Z4CZZjKRwsLt"
      }
    },
    {
      "cell_type": "markdown",
      "source": [
        "Q7.How can you handle multiple exceptions in Python?\n",
        "\n",
        "ANS:In Python, you can handle multiple exceptions using multiple except blocks, a single except block with a tuple, or using generic exception handling.\n",
        "\n",
        "1. Using Multiple except Blocks\n",
        "You can specify different except blocks for handling different exceptions separately.\n",
        "\n",
        "2. Using a Single except with a Tuple\n",
        "If multiple exceptions should be handled the same way, you can group them into a tuple.\n",
        "\n",
        "3. Using a Generic except Block\n",
        "Catching all exceptions using except Exception: ensures that the program doesn't crash.\n",
        "\n",
        "4. Using else and finally\n",
        "else runs if no exceptions occur.\n",
        "finally always executes, useful for cleanup."
      ],
      "metadata": {
        "id": "HM7x_7UCxXVG"
      }
    },
    {
      "cell_type": "markdown",
      "source": [
        "Q8.What is the purpose of the with statement when handling files in Python?\n",
        "\n",
        "ANS: The with statement in Python is used for automatic resource management, especially when handling files. It ensures that resources like file handles are properly opened and closed, even if an error occurs.\n",
        "\n",
        "1. Automatic Cleanup - The file is closed automatically when the block exits.\n",
        "\n",
        "2. No Need for file.close() - Prevents forgetting to close the file.\n",
        "\n",
        "3. Handles Exceptions Gracefully - Avoids resource leaks in case of errors.\n",
        "\n"
      ],
      "metadata": {
        "id": "DyaRSORyyBNl"
      }
    },
    {
      "cell_type": "markdown",
      "source": [
        "Q9.What is the difference between multithreading and multiprocessing?\n",
        "\n",
        "ANS:\n",
        "1. Multithreading\n",
        "Multithreading involves running multiple threads within the same process. However, due to Python’s Global Interpreter Lock (GIL), threads cannot execute Python bytecode simultaneously. It is best used for I/O-bound tasks.\n",
        "\n",
        "2. Multiprocessing\n",
        "Multiprocessing involves running multiple processes, each with its own memory space. It allows true parallel execution, making it ideal for CPU-bound tasks."
      ],
      "metadata": {
        "id": "drx1WiwoyzRQ"
      }
    },
    {
      "cell_type": "markdown",
      "source": [
        "Q10.What are the advantages of using logging in a program?\n",
        "\n",
        "ANS:Advantage\tof using logging in a program\n",
        "\n",
        "1. Better Debugging\tHelps find errors quickly\n",
        "2. Different Log Levels\tFilters logs based on severity\n",
        "3. Saves to Files\tLogs persist for analysis\n",
        "4. Thread & Process-Safe\tWorks well in multithreading/multiprocessing\n",
        "5. More Efficient than print()\tFlexible and configurable\n",
        "6. Centralized Monitoring\tHelps in large-scale applications"
      ],
      "metadata": {
        "id": "K8FjZonczc9Q"
      }
    },
    {
      "cell_type": "markdown",
      "source": [
        "Q11. What is memory management in Python?\n",
        "\n",
        "ANS:Memory management in Python is an essential feature that ensures efficient use of memory and prevents memory leaks. Python uses an automatic memory management system that includes garbage collection, reference counting, and memory allocation techniques."
      ],
      "metadata": {
        "id": "bC6vnxSK0IqC"
      }
    },
    {
      "cell_type": "markdown",
      "source": [
        "Q12. What are the basic steps involved in exception handling in Python?\n",
        "\n",
        "ANS:Exception handling in Python helps to gracefully manage errors without crashing the program. It is done using the try-except mechanism.\n",
        "\n",
        "1. Identify the Code That May Cause an Exception\n",
        "Wrap the code that might raise an exception inside a try block.\n",
        "\n",
        "2. Handle Exceptions Using except Blocks\n",
        "Use except blocks to catch specific exceptions and provide meaningful error handling.\n",
        "\n",
        "3. Use else for Code That Runs If No Exception Occurs (Optional)\n",
        "The else block executes only if no exception occurs.\n",
        "\n",
        "4. Use finally to Run Cleanup Code (Optional)\n",
        "The finally block always executes, whether an exception occurs or not.\n",
        "\n"
      ],
      "metadata": {
        "id": "OJfEig7J5Lwc"
      }
    },
    {
      "cell_type": "markdown",
      "source": [
        "Q13. Why is memory management important in Python?\n",
        "\n",
        "ANS:Memory management is crucial in Python because it ensures efficient use of system resources, prevents memory leaks, and enhances performance. Python handles memory automatically, but understanding its management can help optimize programs, especially for data-intensive or long-running applications."
      ],
      "metadata": {
        "id": "HH90xOfe5sbe"
      }
    },
    {
      "cell_type": "markdown",
      "source": [
        "Q14.What is the role of try and except in exception handling?\n",
        "\n",
        "ANS:\n",
        "1. try Block – Detects Errors\n",
        "🔹 The try block contains the code that may cause an exception.\n",
        "🔹 If an error occurs, Python immediately stops execution in the try block and jumps to the except block.\n",
        "\n",
        "🔹 Example: Code That May Cause an Exception\n",
        "\n",
        "2. except Block – Handles Errors\n",
        "🔹 The except block catches specific exceptions and executes a recovery action.\n",
        "🔹 It prevents the program from crashing and allows custom error messages.\n",
        "\n",
        "🔹 Example: Handling Specific Errors"
      ],
      "metadata": {
        "id": "lg_ArEqM6QLu"
      }
    },
    {
      "cell_type": "markdown",
      "source": [
        "Q15. How does Python's garbage collection system work?\n",
        "\n",
        "ANS: Python’s garbage collection (GC) system automatically frees up memory by removing objects that are no longer in use. It primarily relies on reference counting and a cyclic garbage collector to manage memory efficiently.\n",
        "\n"
      ],
      "metadata": {
        "id": "-U1GG1io6s8d"
      }
    },
    {
      "cell_type": "markdown",
      "source": [
        "Q16.What is the purpose of the else block in exception handling?\n",
        "\n",
        "ANS:The else block in Python’s exception handling is used to execute code only if no exceptions occur in the try block. It helps separate normal execution from error handling."
      ],
      "metadata": {
        "id": "kNyvDwiP7DE0"
      }
    },
    {
      "cell_type": "markdown",
      "source": [
        "Q17. What are the common logging levels in Python?\n",
        "\n",
        "ANS: Logging Levels\n",
        "\n",
        "DEBUG\tTroubleshooting, variable tracking, debugging code\n",
        "\n",
        "INFO\tGeneral execution logs (e.g., \"Service started\")\n",
        "\n",
        "WARNING\tNon-critical issues (e.g., \"Low disk space\")\n",
        "\n",
        "ERROR\tRecoverable errors (e.g., \"Failed to load config file\")\n",
        "\n",
        "CRITICAL\tSevere errors that might crash the system"
      ],
      "metadata": {
        "id": "dxGRQyl29ubc"
      }
    },
    {
      "cell_type": "markdown",
      "source": [
        "Q18.What is the difference between os.fork() and multiprocessing in Python?\n",
        "\n",
        "ANS:Difference Between os.fork() and multiprocessing in Python\n",
        "Both os.fork() and the multiprocessing module are used to create new processes in Python, but they work differently and are used in different scenarios.\n",
        "\n",
        "1. os.fork() – Direct Process Forking (UNIX/Linux Only)\n",
        "🔹 os.fork() creates a child process by duplicating the current process.\n",
        "🔹 Only works on UNIX-based systems (Linux/macOS)  Not available on Windows.\n",
        "🔹 The child process gets a copy of the parent’s memory space.\n",
        "\n",
        "2. multiprocessing – Cross-Platform Process Management\n",
        "🔹 The multiprocessing module provides a high-level API to create and manage processes.\n",
        "🔹 Works on both Windows and UNIX-based systems.\n",
        "🔹 Each process gets its own memory space, making it safer than threads."
      ],
      "metadata": {
        "id": "dKea4RbD-RMB"
      }
    },
    {
      "cell_type": "markdown",
      "source": [
        "Q19. What is the importance of closing a file in Python?\n",
        "\n",
        "ANS:In Python, when you open a file using open(), it is crucial to close it properly using file.close(). If a file is not closed, it can lead to memory leaks, data corruption, or file access issues."
      ],
      "metadata": {
        "id": "9wiZNh_Y_H3b"
      }
    },
    {
      "cell_type": "markdown",
      "source": [
        "Q20.What is the difference between file.read() and file.readline() in Python?\n",
        "\n",
        "ANS: 1. file.read(size) – Reads the Entire File or a Specified Number of Bytes\n",
        "\n",
        "🔹 Reads the entire file as a single string (if no argument is provided).\n",
        "🔹 Can read a specific number of bytes if an argument is passed.\n",
        "\n",
        "2. file.readline() – Reads One Line at a Time\n",
        "\n",
        "🔹 Reads only one line from the file at a time.\n",
        "🔹 Useful when working with large files to avoid memory issues.\n",
        "\n"
      ],
      "metadata": {
        "id": "8iRigsVwB0cp"
      }
    },
    {
      "cell_type": "markdown",
      "source": [
        "Q21.What is the logging module in Python used for?\n",
        "\n",
        "ANS:The logging module in Python is used to record messages about a program's execution for debugging, monitoring, and tracking errors. It provides a flexible way to log information at different levels of severity.\n",
        "\n",
        "✅ Debugging: Helps developers find and fix issues.\n",
        "✅ Monitoring: Tracks application behavior over time.\n",
        "✅ Error Handling: Logs errors without stopping the program.\n",
        "✅ Persistent Logs: Saves logs to a file for future analysis.\n",
        "✅ Better than print(): Offers log levels, timestamps, and formatting.\n",
        "\n"
      ],
      "metadata": {
        "id": "UDgVXHNLCds-"
      }
    },
    {
      "cell_type": "markdown",
      "source": [
        "Q22.What is the os module in Python used for in file handling?\n",
        "\n",
        "ANS:The os module in Python provides functions to interact with the operating system, including file and directory management. It allows you to create, delete, rename, and manipulate files and directories."
      ],
      "metadata": {
        "id": "rhL8XSIFC2kh"
      }
    },
    {
      "cell_type": "markdown",
      "source": [
        "Q23.What are the challenges associated with memory management in Python?\n",
        "\n",
        "ANS: Challenges Associated with Memory Management in Python\n",
        "\n",
        "\n",
        "1.   High Memory Consumption\n",
        "2.   Garbage Collection Overhead\n",
        "3.    Circular References & Memory Leaks\n",
        "4.    Inefficient Data Structures\n",
        "5.   Global Variables Holding Memory\n",
        "6.   Memory Fragmentation\n",
        "7.   Large Objects Not Released Properly\n",
        "\n",
        "\n"
      ],
      "metadata": {
        "id": "TTVvHr97CR-C"
      }
    },
    {
      "cell_type": "markdown",
      "source": [
        "Q24.How do you raise an exception manually in Python?\n",
        "\n",
        "ANS:In Python, you can manually raise an exception using the raise keyword. This is useful when you want to enforce specific conditions or handle errors in a controlled way.\n",
        "raise Exception(\"This is a manually raised exception\")"
      ],
      "metadata": {
        "id": "usOtLas3EIwb"
      }
    },
    {
      "cell_type": "markdown",
      "source": [
        "Q25.Why is it important to use multithreading in certain applications?\n",
        "\n",
        "ANS:Multithreading is useful in Python for improving the efficiency of applications that perform multiple tasks concurrently. It allows a program to run multiple operations at the same time within a single process, making better use of system resources.\n",
        "\n"
      ],
      "metadata": {
        "id": "76r_zLtyEdw4"
      }
    },
    {
      "cell_type": "markdown",
      "source": [
        "***PRACTICAL QUESTIONS***"
      ],
      "metadata": {
        "id": "N1C-qWX4Eq1_"
      }
    },
    {
      "cell_type": "markdown",
      "source": [
        "Q1.How can you open a file for writing in Python and write a string to it"
      ],
      "metadata": {
        "id": "3i3UGHIMEwwQ"
      }
    },
    {
      "cell_type": "code",
      "source": [
        "with open(\"example.txt\", \"w\") as file:\n",
        "    file.write(\"Hello, this is a test string.\")\n"
      ],
      "metadata": {
        "id": "inkQXxKKE8Ga"
      },
      "execution_count": 8,
      "outputs": []
    },
    {
      "cell_type": "markdown",
      "source": [
        "Q2. Write a Python program to read the contents of a file and print each line"
      ],
      "metadata": {
        "id": "mQTWJvoSeAb7"
      }
    },
    {
      "cell_type": "code",
      "source": [
        "with open(\"example.txt\", \"r\") as file:\n",
        "    lines = file.readlines()  # Reads all lines into a list\n",
        "    for line in lines:\n",
        "        print(line.strip())\n"
      ],
      "metadata": {
        "colab": {
          "base_uri": "https://localhost:8080/"
        },
        "id": "3LUGX6FIeG6n",
        "outputId": "f6ce43fb-7f4a-4ec6-eec1-d2ce2d0825b6"
      },
      "execution_count": null,
      "outputs": [
        {
          "output_type": "stream",
          "name": "stdout",
          "text": [
            "Hello, this is a test string.\n"
          ]
        }
      ]
    },
    {
      "cell_type": "markdown",
      "source": [
        "Q3.How would you handle a case where the file doesn't exist while trying to open it for reading\n"
      ],
      "metadata": {
        "id": "uvzvJ-zUebZv"
      }
    },
    {
      "cell_type": "code",
      "source": [
        "try:\n",
        "    with open(\"file.txt\", \"r\") as file:\n",
        "        for line in file:\n",
        "            print(line.strip())\n",
        "except FileNotFoundError:\n",
        "    print(\"Error: The file does not exist. Please check the filename and try again.\")\n"
      ],
      "metadata": {
        "colab": {
          "base_uri": "https://localhost:8080/"
        },
        "id": "oDJ4pS4veqWk",
        "outputId": "8e5556e6-738a-4c48-9f40-f91647371881"
      },
      "execution_count": null,
      "outputs": [
        {
          "output_type": "stream",
          "name": "stdout",
          "text": [
            "Error: The file does not exist. Please check the filename and try again.\n"
          ]
        }
      ]
    },
    {
      "cell_type": "markdown",
      "source": [
        "Q4. Write a Python script that reads from one file and writes its content to another file"
      ],
      "metadata": {
        "id": "0OWQWVE1fdNE"
      }
    },
    {
      "cell_type": "code",
      "source": [
        "source_file = \"source.txt\"\n",
        "destination_file = \"destination.txt\"\n",
        "\n",
        "\n",
        "try:\n",
        "    with open(source_file, \"r\") as src, open(destination_file, \"w\") as dest:\n",
        "        for line in src:\n",
        "            dest.write(line)\n",
        "    print(f\"Content copied from {source_file} to {destination_file} successfully.\")\n",
        "except FileNotFoundError:\n",
        "    print(f\"Error: {source_file} not found.\")\n",
        "except Exception as e:\n",
        "    print(f\"An error occurred: {e}\")\n"
      ],
      "metadata": {
        "colab": {
          "base_uri": "https://localhost:8080/"
        },
        "id": "DXC-Vylvfllh",
        "outputId": "2c4e7e5c-de95-43dc-ed02-f04f0fd816c4"
      },
      "execution_count": null,
      "outputs": [
        {
          "output_type": "stream",
          "name": "stdout",
          "text": [
            "Error: source.txt not found.\n"
          ]
        }
      ]
    },
    {
      "cell_type": "markdown",
      "source": [
        "Q5. How would you catch and handle division by zero error in Python?\n"
      ],
      "metadata": {
        "id": "5-oiEn51glRf"
      }
    },
    {
      "cell_type": "code",
      "source": [
        "try:\n",
        "    result = 10 / 0\n",
        "except ZeroDivisionError:\n",
        "    print(\"Error: Division by zero is not allowed.\")\n"
      ],
      "metadata": {
        "colab": {
          "base_uri": "https://localhost:8080/"
        },
        "id": "WUWY37RxguFF",
        "outputId": "2be7de81-83f1-4065-a8b6-03ad1d0e0d66"
      },
      "execution_count": null,
      "outputs": [
        {
          "output_type": "stream",
          "name": "stdout",
          "text": [
            "Error: Division by zero is not allowed.\n"
          ]
        }
      ]
    },
    {
      "cell_type": "markdown",
      "source": [
        "Q6. Write a Python program that logs an error message to a log file when a division by zero exception occurs?"
      ],
      "metadata": {
        "id": "m6O1Hw78g21m"
      }
    },
    {
      "cell_type": "code",
      "source": [
        "import logging\n",
        "\n",
        "logging.basicConfig(filename=\"error.log\", level=logging.ERROR,\n",
        "                    format=\"%(asctime)s - %(levelname)s - %(message)s\")\n",
        "\n",
        "def safe_divide(a, b):\n",
        "    try:\n",
        "        return a / b\n",
        "    except ZeroDivisionError:\n",
        "        logging.error(\"Attempted to divide by zero: %d / %d\", a, b)\n",
        "        return \"Error: Division by zero\"\n",
        "\n",
        "\n",
        "print(safe_divide(10, 0))\n"
      ],
      "metadata": {
        "colab": {
          "base_uri": "https://localhost:8080/"
        },
        "id": "N8J4Ocw-uGzd",
        "outputId": "48a636a0-3134-4468-d3ed-a31dfa8a4b8a"
      },
      "execution_count": null,
      "outputs": [
        {
          "output_type": "stream",
          "name": "stderr",
          "text": [
            "ERROR:root:Attempted to divide by zero: 10 / 0\n"
          ]
        },
        {
          "output_type": "stream",
          "name": "stdout",
          "text": [
            "Error: Division by zero\n"
          ]
        }
      ]
    },
    {
      "cell_type": "markdown",
      "source": [
        "Q7. How do you log information at different levels (INFO, ERROR, WARNING) in Python using the logging module?"
      ],
      "metadata": {
        "id": "ZO9cIrJLui1-"
      }
    },
    {
      "cell_type": "code",
      "source": [
        "import logging\n",
        "\n",
        "logging.basicConfig(\n",
        "    filename=\"app.log\",\n",
        "    level=logging.DEBUG,\n",
        "\n",
        ")\n",
        "\n",
        "logging.debug(\"This is a DEBUG message.\")\n",
        "logging.info(\"This is an INFO message.\")\n",
        "logging.warning(\"This is a WARNING message.\")\n",
        "logging.error(\"This is an ERROR message.\")\n",
        "logging.critical(\"This is a CRITICAL message.\")\n"
      ],
      "metadata": {
        "colab": {
          "base_uri": "https://localhost:8080/"
        },
        "id": "vNht4p3-u8U8",
        "outputId": "b8158ca3-9047-4f55-e2b6-225fa497a878"
      },
      "execution_count": null,
      "outputs": [
        {
          "output_type": "stream",
          "name": "stderr",
          "text": [
            "WARNING:root:This is a WARNING message.\n",
            "ERROR:root:This is an ERROR message.\n",
            "CRITICAL:root:This is a CRITICAL message.\n"
          ]
        }
      ]
    },
    {
      "cell_type": "markdown",
      "source": [
        "Q8. Write a program to handle a file opening error using exception handling?"
      ],
      "metadata": {
        "id": "G3KzW7XuvU0H"
      }
    },
    {
      "cell_type": "code",
      "source": [
        "try:\n",
        "    with open(\"file.txt\", \"r\") as file:\n",
        "        content = file.read()\n",
        "        print(content)\n",
        "except FileNotFoundError:\n",
        "    print(\"Error: The file does not exist. Please check the filename and try again.\")\n",
        "except PermissionError:\n",
        "    print(\"Error: You do not have permission to access this file.\")\n",
        "except Exception as e:\n",
        "    print(f\"An unexpected error occurred: {e}\")\n"
      ],
      "metadata": {
        "colab": {
          "base_uri": "https://localhost:8080/"
        },
        "id": "qEyGXis1vbh2",
        "outputId": "a7c46761-e29c-40e6-e883-86297c01c1c2"
      },
      "execution_count": null,
      "outputs": [
        {
          "output_type": "stream",
          "name": "stdout",
          "text": [
            "Error: The file does not exist. Please check the filename and try again.\n"
          ]
        }
      ]
    },
    {
      "cell_type": "markdown",
      "source": [
        "Q9. How can you read a file line by line and store its content in a list in Python?"
      ],
      "metadata": {
        "id": "9wXgAn6Wvovp"
      }
    },
    {
      "cell_type": "code",
      "source": [
        "lines = []\n",
        "with open(\"example.txt\", \"r\") as file:\n",
        "    for line in file:\n",
        "        lines.append(line.strip())\n",
        "\n",
        "print(lines)"
      ],
      "metadata": {
        "colab": {
          "base_uri": "https://localhost:8080/"
        },
        "id": "IZ_AgAyPwJBy",
        "outputId": "4f2422c7-389d-472d-b65f-32f6239f4a77"
      },
      "execution_count": null,
      "outputs": [
        {
          "output_type": "stream",
          "name": "stdout",
          "text": [
            "['Hello, this is a test string.']\n"
          ]
        }
      ]
    },
    {
      "cell_type": "markdown",
      "source": [
        "Q10.How can you append data to an existing file in Python?"
      ],
      "metadata": {
        "id": "SIz1hXogxYtq"
      }
    },
    {
      "cell_type": "code",
      "source": [
        "with open(\"example.txt\", \"a\") as file:\n",
        "    file.write(\"\\nThis is a new line added to the file.\")\n"
      ],
      "metadata": {
        "id": "IKnJwrDaxfxy"
      },
      "execution_count": null,
      "outputs": []
    },
    {
      "cell_type": "markdown",
      "source": [
        "Q11.Write a Python program that uses a try-except block to handle an error when attempting to access a dictionary key that doesn't exist?"
      ],
      "metadata": {
        "id": "Q-DW5VeoxvHX"
      }
    },
    {
      "cell_type": "code",
      "source": [
        "my_dict = {\"name\": \"Alice\", \"age\": 25}\n",
        "\n",
        "try:\n",
        "    print(my_dict[\"city\"])\n",
        "except KeyError:\n",
        "    print(\"Error: The specified key does not exist in the dictionary.\")\n"
      ],
      "metadata": {
        "colab": {
          "base_uri": "https://localhost:8080/"
        },
        "id": "yx01rkvqx5Io",
        "outputId": "3a3ae7bc-aafe-41dd-fb94-3bfd347e8991"
      },
      "execution_count": null,
      "outputs": [
        {
          "output_type": "stream",
          "name": "stdout",
          "text": [
            "Error: The specified key does not exist in the dictionary.\n"
          ]
        }
      ]
    },
    {
      "cell_type": "markdown",
      "source": [
        "Q12.Write a program that demonstrates using multiple except blocks to handle different types of exception"
      ],
      "metadata": {
        "id": "-etGnnNiyJJ4"
      }
    },
    {
      "cell_type": "code",
      "source": [
        "try:\n",
        "    num1 = int(input(\"Enter a number: \"))  # ValueError if input is not an integer\n",
        "    num2 = int(input(\"Enter another number: \"))\n",
        "    result = num1 / num2  # ZeroDivisionError if num2 is 0\n",
        "    my_list = [1, 2, 3]\n",
        "    print(my_list[5])  # IndexError if accessing out of range index\n",
        "except ValueError:\n",
        "    print(\"Error: Invalid input! Please enter an integer.\")\n",
        "except ZeroDivisionError:\n",
        "    print(\"Error: Division by zero is not allowed.\")\n",
        "except IndexError:\n",
        "    print(\"Error: List index is out of range.\")\n",
        "except Exception as e:\n",
        "    print(f\"An unexpected error occurred: {e}\")\n"
      ],
      "metadata": {
        "colab": {
          "base_uri": "https://localhost:8080/"
        },
        "id": "77WIdf4wyRWY",
        "outputId": "70f97a9d-137e-48ae-f822-2c5d9156c582"
      },
      "execution_count": null,
      "outputs": [
        {
          "output_type": "stream",
          "name": "stdout",
          "text": [
            "Enter a number: 1\n",
            "Enter another number: 0\n",
            "Error: Division by zero is not allowed.\n"
          ]
        }
      ]
    },
    {
      "cell_type": "markdown",
      "source": [
        " Q13.How would you check if a file exists before attempting to read it in Python"
      ],
      "metadata": {
        "id": "X9zb0_R1y491"
      }
    },
    {
      "cell_type": "code",
      "source": [
        "import os\n",
        "\n",
        "filename = \"example.txt\"\n",
        "\n",
        "if os.path.exists(filename):\n",
        "    with open(filename, \"r\") as file:\n",
        "        content = file.read()\n",
        "        print(content)\n",
        "else:\n",
        "    print(f\"Error: The file '{filename}' does not exist.\")\n"
      ],
      "metadata": {
        "colab": {
          "base_uri": "https://localhost:8080/"
        },
        "id": "Sf9b1ZrGy8KX",
        "outputId": "84b7ff07-bd13-4bf8-fd12-86287bae7526"
      },
      "execution_count": null,
      "outputs": [
        {
          "output_type": "stream",
          "name": "stdout",
          "text": [
            "Hello, this is a test string.\n",
            "This is a new line added to the file.\n"
          ]
        }
      ]
    },
    {
      "cell_type": "markdown",
      "source": [
        "Q14.Write a program that uses the logging module to log both informational and error messages"
      ],
      "metadata": {
        "id": "Z7PyHC9QHlwU"
      }
    },
    {
      "cell_type": "code",
      "source": [
        "import logging\n",
        "\n",
        "logging.basicConfig(\n",
        "    filename='app.log',\n",
        "    level=logging.DEBUG,\n",
        "    format='%(asctime)s - %(levelname)s - %(message)s',\n",
        "    datefmt='%Y-%m-%d %H:%M:%S'\n",
        ")\n",
        "\n",
        "def divide(a, b):\n",
        "    try:\n",
        "        result = a / b\n",
        "        logging.info(f\"Division successful: {a} / {b} = {result}\")\n",
        "        return result\n",
        "    except ZeroDivisionError:\n",
        "        logging.error(\"Attempted to divide by zero.\")\n",
        "        return None\n",
        "    except Exception as e:\n",
        "        logging.error(f\"Unexpected error: {e}\")\n",
        "        return None\n",
        "\n",
        "logging.info(\"Application started\")\n",
        "print(divide(10, 2))\n",
        "print(divide(10, 0))\n",
        "logging.info(\"Application finished\")\n"
      ],
      "metadata": {
        "colab": {
          "base_uri": "https://localhost:8080/"
        },
        "id": "4nFlqHRqIXep",
        "outputId": "9ecc5dd0-9e47-4edb-99e3-919c22dd6484"
      },
      "execution_count": null,
      "outputs": [
        {
          "output_type": "stream",
          "name": "stderr",
          "text": [
            "ERROR:root:Attempted to divide by zero.\n"
          ]
        },
        {
          "output_type": "stream",
          "name": "stdout",
          "text": [
            "5.0\n",
            "None\n"
          ]
        }
      ]
    },
    {
      "cell_type": "markdown",
      "source": [
        "Q15. Write a Python program that prints the content of a file and handles the case when the file is empty"
      ],
      "metadata": {
        "id": "Hw0wkU9qJO4F"
      }
    },
    {
      "cell_type": "code",
      "source": [
        "def read_file(filename):\n",
        "    try:\n",
        "        with open(\"numbers.txt\", 'r') as file:\n",
        "            content = file.read()\n",
        "            if content.strip():\n",
        "                print(\"File Content:\")\n",
        "                print(content)\n",
        "            else:\n",
        "                print(\"The file is empty.\")\n",
        "    except FileNotFoundError:\n",
        "        print(\"Error: File not found.\")\n",
        "    except Exception as e:\n",
        "        print(f\"An error occurred: {e}\")\n",
        "\n",
        "filename = \"numbers.txt\"\n",
        "read_file(filename)\n"
      ],
      "metadata": {
        "colab": {
          "base_uri": "https://localhost:8080/"
        },
        "id": "zA8n_ATKJdfY",
        "outputId": "7c52154f-c0e6-476a-bdfa-b2f63461452a"
      },
      "execution_count": null,
      "outputs": [
        {
          "output_type": "stream",
          "name": "stdout",
          "text": [
            "File Content:\n",
            "1\n",
            "2\n",
            "3\n",
            "4\n",
            "5\n",
            "6\n",
            "7\n",
            "8\n",
            "9\n",
            "10\n",
            "\n"
          ]
        }
      ]
    },
    {
      "cell_type": "markdown",
      "source": [
        "Q16. Demonstrate how to use memory profiling to check the memory usage of a small programF"
      ],
      "metadata": {
        "id": "8rHE9iEKKrAc"
      }
    },
    {
      "cell_type": "code",
      "source": [
        "from memory_profiler import profile\n",
        "\n",
        "@profile\n",
        "def add_numbers(a, b):\n",
        "    result = a + b\n",
        "    print(f\"The sum of {a} and {b} is {result}\")\n",
        "    return result\n",
        "\n",
        "a = 10\n",
        "b = 20\n",
        "add_numbers(a, b)\n"
      ],
      "metadata": {
        "colab": {
          "base_uri": "https://localhost:8080/"
        },
        "id": "8QUDcrgMNBY9",
        "outputId": "9eee814f-044b-4e68-9fee-3712a57a691d"
      },
      "execution_count": null,
      "outputs": [
        {
          "output_type": "stream",
          "name": "stdout",
          "text": [
            "ERROR: Could not find file <ipython-input-11-c49bcd213c25>\n",
            "NOTE: %mprun can only be used on functions defined in physical files, and not in the IPython environment.\n",
            "The sum of 10 and 20 is 30\n"
          ]
        },
        {
          "output_type": "execute_result",
          "data": {
            "text/plain": [
              "30"
            ]
          },
          "metadata": {},
          "execution_count": 11
        }
      ]
    },
    {
      "cell_type": "markdown",
      "source": [
        "Q17.Write a Python program to create and write a list of numbers to a file, one number per line"
      ],
      "metadata": {
        "id": "Frv7kwuDNM-I"
      }
    },
    {
      "cell_type": "code",
      "source": [
        "def write_numbers_to_file(filename, numbers):\n",
        "    try:\n",
        "        with open(filename, 'w') as file:\n",
        "            for number in numbers:\n",
        "                file.write(f\"{number}\\n\")\n",
        "        print(f\"Numbers successfully written to {filename}\")\n",
        "    except Exception as e:\n",
        "        print(f\"An error occurred: {e}\")\n",
        "\n",
        "filename = \"numbers.txt\"\n",
        "numbers = [1, 2, 3, 4, 5, 6, 7, 8, 9, 10]\n",
        "write_numbers_to_file(filename, numbers)\n"
      ],
      "metadata": {
        "colab": {
          "base_uri": "https://localhost:8080/"
        },
        "id": "7ylWhXMtNhEv",
        "outputId": "a2eaa7b5-280a-4a8c-da5a-baca1a6c6973"
      },
      "execution_count": null,
      "outputs": [
        {
          "output_type": "stream",
          "name": "stdout",
          "text": [
            "Numbers successfully written to numbers.txt\n"
          ]
        }
      ]
    },
    {
      "cell_type": "markdown",
      "source": [
        "Q18. How would you implement a basic logging setup that logs to a file with rotation after 1MB"
      ],
      "metadata": {
        "id": "L7H8BfZ6NxNN"
      }
    },
    {
      "cell_type": "code",
      "source": [
        "import logging\n",
        "from logging.handlers import RotatingFileHandler\n",
        "\n",
        "# Configure logging with rotation\n",
        "log_filename = \"app.log\"\n",
        "log_handler = RotatingFileHandler(log_filename, maxBytes=1_000_000, backupCount=5)\n",
        "logging.basicConfig(\n",
        "    handlers=[log_handler],\n",
        "    level=logging.INFO,\n",
        "    format=\"%(asctime)s - %(levelname)s - %(message)s\",\n",
        "    datefmt=\"%Y-%m-%d %H:%M:%S\",\n",
        ")\n",
        "\n",
        "def write_numbers_to_file(filename, numbers):\n",
        "    try:\n",
        "        with open(filename, 'w') as file:\n",
        "            for number in numbers:\n",
        "                file.write(f\"{number}\\n\")\n",
        "        logging.info(f\"Numbers successfully written to {filename}\")\n",
        "    except Exception as e:\n",
        "        logging.error(f\"An error occurred: {e}\")\n",
        "\n",
        "filename = \"numbers.txt\"\n",
        "numbers = list(range(1, 11))\n",
        "write_numbers_to_file(filename, numbers)\n"
      ],
      "metadata": {
        "id": "EHeiBjL0OCE2"
      },
      "execution_count": null,
      "outputs": []
    },
    {
      "cell_type": "markdown",
      "source": [
        "Q19.Write a program that handles both IndexError and KeyError using a try-except block"
      ],
      "metadata": {
        "id": "f4UtiAhAOZR1"
      }
    },
    {
      "cell_type": "code",
      "source": [
        "def handle_exceptions():\n",
        "    try:\n",
        "        my_list = [1, 2, 3]\n",
        "        print(my_list[5])\n",
        "    except IndexError:\n",
        "        print(\"IndexError: List index out of range.\")\n",
        "\n",
        "    try:\n",
        "        my_dict = {\"a\": 1, \"b\": 2}\n",
        "        print(my_dict[\"c\"])\n",
        "    except KeyError:\n",
        "        print(\"KeyError: Key not found in dictionary.\")\n",
        "\n",
        "handle_exceptions()\n"
      ],
      "metadata": {
        "colab": {
          "base_uri": "https://localhost:8080/"
        },
        "id": "LRTzWUdjOpmS",
        "outputId": "16144d22-eccc-4c5a-c071-b20f5ead9ee2"
      },
      "execution_count": null,
      "outputs": [
        {
          "output_type": "stream",
          "name": "stdout",
          "text": [
            "IndexError: List index out of range.\n",
            "KeyError: Key not found in dictionary.\n"
          ]
        }
      ]
    },
    {
      "cell_type": "markdown",
      "source": [
        "Q20.How would you open a file and read its contents using a context manager in Python"
      ],
      "metadata": {
        "id": "nLxSAapnOv6_"
      }
    },
    {
      "cell_type": "code",
      "source": [
        "def read_file_with_context(filename):\n",
        "    try:\n",
        "        with open(filename, 'r') as file:\n",
        "            content = file.read()\n",
        "            print(\"File Content:\")\n",
        "            print(content)\n",
        "    except FileNotFoundError:\n",
        "        print(\"Error: File not found.\")\n",
        "    except Exception as e:\n",
        "        print(f\"An error occurred: {e}\")\n",
        "\n",
        "filename = \"numbers.txt\"\n",
        "read_file_with_context(filename)\n"
      ],
      "metadata": {
        "colab": {
          "base_uri": "https://localhost:8080/"
        },
        "id": "EH7uzwXYPAvN",
        "outputId": "7e77ccaf-ce26-4f2d-9a7a-69978632544f"
      },
      "execution_count": null,
      "outputs": [
        {
          "output_type": "stream",
          "name": "stdout",
          "text": [
            "File Content:\n",
            "1\n",
            "2\n",
            "3\n",
            "4\n",
            "5\n",
            "6\n",
            "7\n",
            "8\n",
            "9\n",
            "10\n",
            "\n"
          ]
        }
      ]
    },
    {
      "cell_type": "markdown",
      "source": [
        "Q21.Write a Python program that reads a file and prints the number of occurrences of a specific word\n"
      ],
      "metadata": {
        "id": "O2f0RfDtQEKL"
      }
    },
    {
      "cell_type": "code",
      "source": [
        "def create_file_if_missing(filename):\n",
        "    if not os.path.exists(filename):\n",
        "        with open(filename, \"w\") as file:\n",
        "            file.write(\"Python is great! Learning Python is fun. Python is easy to learn.\")\n",
        "        print(f\"File '{filename}' created with default content.\")\n",
        "\n",
        "import os\n",
        "file_name = \"sample.txt\"\n",
        "create_file_if_missing(file_name)\n",
        "count_word_occurrences(file_name, \"python\")\n"
      ],
      "metadata": {
        "colab": {
          "base_uri": "https://localhost:8080/"
        },
        "id": "-NZgXIKgryI6",
        "outputId": "b24b9a0a-fc81-450f-c884-2ff237451b2a"
      },
      "execution_count": 3,
      "outputs": [
        {
          "output_type": "stream",
          "name": "stdout",
          "text": [
            "File 'sample.txt' created with default content.\n",
            "The word 'python' appears 3 times in 'sample.txt'.\n"
          ]
        }
      ]
    },
    {
      "cell_type": "markdown",
      "source": [
        "Q22.How can you check if a file is empty before attempting to read its contents?"
      ],
      "metadata": {
        "id": "FemHcedGsDW7"
      }
    },
    {
      "cell_type": "code",
      "source": [
        "import os\n",
        "\n",
        "filename = \"sample.txt\"\n",
        "\n",
        "if os.path.exists(filename) and os.path.getsize(filename) > 0:\n",
        "    with open(filename, \"r\") as file:\n",
        "        print(file.read())\n",
        "else:\n",
        "    print(f\"Error: The file '{filename}' is empty or does not exist.\")\n"
      ],
      "metadata": {
        "colab": {
          "base_uri": "https://localhost:8080/"
        },
        "id": "YfrwLOKVtCSs",
        "outputId": "3777692f-9d82-4b46-8e97-2b8bc0a41424"
      },
      "execution_count": 5,
      "outputs": [
        {
          "output_type": "stream",
          "name": "stdout",
          "text": [
            "Python is great! Learning Python is fun. Python is easy to learn.\n"
          ]
        }
      ]
    },
    {
      "cell_type": "markdown",
      "source": [
        "Q23. Write a Python program that writes to a log file when an error occurs during file handling."
      ],
      "metadata": {
        "id": "YDkI8Jurtfvj"
      }
    },
    {
      "cell_type": "code",
      "source": [
        "import logging\n",
        "\n",
        "# Configure logging to write errors to a log file\n",
        "logging.basicConfig(filename=\"file_errors.log\", level=logging.ERROR,\n",
        "                    format=\"%(asctime)s - %(levelname)s - %(message)s\")\n",
        "\n",
        "def read_file(filename):\n",
        "    \"\"\"Attempts to read a file and logs errors if any occur.\"\"\"\n",
        "    try:\n",
        "        with open(filename, \"r\") as file:\n",
        "            content = file.read()\n",
        "            print(content)\n",
        "    except FileNotFoundError:\n",
        "        logging.error(f\"File '{filename}' not found.\")\n",
        "        print(\"Error: The file does not exist.\")\n",
        "    except PermissionError:\n",
        "        logging.error(f\"Permission denied for file '{filename}'.\")\n",
        "        print(\"Error: Permission denied.\")\n",
        "    except Exception as e:\n",
        "        logging.error(f\"Unexpected error while accessing '{filename}': {e}\")\n",
        "        print(\"An unexpected error occurred.\")\n",
        "\n",
        "filename = \"sample.txt\"\n",
        "read_file(filename)\n",
        "\n",
        "print(\"Check 'file_errors.log' for error details.\")\n"
      ],
      "metadata": {
        "colab": {
          "base_uri": "https://localhost:8080/"
        },
        "id": "jyyD6esSuINB",
        "outputId": "5f728fa7-b5e7-40de-c73c-da52ce08babf"
      },
      "execution_count": 7,
      "outputs": [
        {
          "output_type": "stream",
          "name": "stdout",
          "text": [
            "Python is great! Learning Python is fun. Python is easy to learn.\n",
            "Check 'file_errors.log' for error details.\n"
          ]
        }
      ]
    }
  ]
}